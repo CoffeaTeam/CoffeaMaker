{
 "cells": [
  {
   "cell_type": "code",
   "execution_count": 1,
   "metadata": {},
   "outputs": [],
   "source": [
    "# Start up Spark (only needs to be done once)\n",
    "import pyspark.sql\n",
    "session = pyspark.sql.SparkSession.builder \\\n",
    "    .master(\"mesos://zk://mesos-zk1:2181,mesos-zk2:2181,mesos-zk3:2181/mesos\") \\\n",
    "    .appName(\"z-mumu\") \\\n",
    "    .config('spark.driver.memory', '4g') \\\n",
    "    .config('spark.eventLog.enabled', 'true') \\\n",
    "    .config('spark.eventLog.dir', 'hdfs://hdfs-nn2/spark-history') \\\n",
    "    .config('spark.shuffle.service.enabled', 'true') \\\n",
    "    .config('spark.dynamicAllocation.enabled', 'false') \\\n",
    "    .config('spark.sql.catalogImplementation', 'in-memory') \\\n",
    "    .config('spark.mesos.executor.docker.image', 'perilousapricot/cms-jupyter:latest') \\\n",
    "    .config('spark.mesos.executor.home', '/usr/local/spark') \\\n",
    "    .config('spark.mesos.executor.docker.volumes', '/mnt/nfs/jupyter/:/home/:rw,/cvmfs:/cvmfs:ro,/lfs_roots/instances:/lio:rw,/cms:/cms:ro,/mnt/nfs/jupyter/passwd:/etc/passed:ro,/mnt/nfs/jupyter/group:/etc/group:ro,/tmp:/tmp') \\\n",
    "    .config('spark.executor.memory', '100g') \\\n",
    "    .config('spark.mesos.task.labels', 'testkey:testvalue') \\\n",
    "    .config('spark.dynamicAllocation.initialExecutors', '4') \\\n",
    "    .config('spark.dynamicAllocation.cachedExecutorIdleTimeout', '2h') \\\n",
    "    .config('spark.dynamicAllocation.executorIdleTimeout', '30m') \\\n",
    "    .config('spark.executor.cores', '14') \\\n",
    "    .config('spark.speculation', 'true') \\\n",
    "    .config('spark.mesos.executor.docker.parameters', 'workdir=/tmp') \\\n",
    "    .config('spark.executor.heartbeatInterval', '60s') \\\n",
    "    .config(\"spark.python.profile\", \"true\") \\\n",
    "    .config('spark.jars.packages', 'org.diana-hep:spark-root_2.11:0.1.15,org.diana-hep:histogrammar-sparksql_2.11:1.0.4') \\\n",
    "    .getOrCreate()\n",
    "sc = session.sparkContext\n",
    "sqlContext = session"
   ]
  },
  {
   "cell_type": "code",
   "execution_count": 2,
   "metadata": {},
   "outputs": [
    {
     "name": "stdout",
     "output_type": "stream",
     "text": [
      "\n",
      "Loading DataFrames .......................done\n",
      "DYJets(dy) - 48435266\n",
      "DiBoson(ww) - 6947038\n",
      "DiBoson(wz) - 2979124\n",
      "DiBoson(zz) - 992744\n",
      "SingleTop(ss) - 2876045\n",
      "SingleTop(stb) - 3809631\n",
      "SingleTop(stt) - 5964287\n",
      "SingleTop(sttwb) - 991780\n",
      "SingleTop(sttwt) - 985470\n",
      "TTJets(tt) - 10066547\n",
      "WJets(wj) - 29212279\n",
      "WJets(wj) - 56246105\n",
      "MC Partitions:  8355\n",
      "Data Partitions: 10683\n"
     ]
    }
   ],
   "source": [
    "import json\n",
    "import sys\n",
    "from pyspark.sql.functions import lit\n",
    "from pyspark.sql.types import *\n",
    "\n",
    "dataDFList = []\n",
    "mcDFList = []\n",
    "\n",
    "sys.stdout.write(\"\\nLoading DataFrames \")\n",
    "fileInputs = json.loads(open(\"input-files.json\", \"r\").read())\n",
    "\n",
    "for category, subcategory, path, xsec, efficiency, count in fileInputs: \n",
    "    if category in (\"Category\", \"DISABLED\"):\n",
    "        continue\n",
    "    \n",
    "    dsPath = \"hdfs://hdfs-nn2/tmp/store/group/ra2tau/\" + path + \"/\"\n",
    "    tempDF = sqlContext.read.load(dsPath) \\\n",
    "                    .withColumn(\"Category\", lit(category)) \\\n",
    "                    .withColumn(\"SubCategory\", lit(subcategory))\n",
    "\n",
    "    if xsec == \"DATA\":\n",
    "        tempDF2 = tempDF.withColumn(\"xsec\", lit(float(1.0))) \\\n",
    "                        .withColumn(\"eff\", lit(float(1.0))) \\\n",
    "                        .withColumn(\"count\", lit(float(1.0)))\n",
    "        dataDFList.append([tempDF2, category, subcategory, xsec, efficiency, count])\n",
    "    else:\n",
    "        tempDF2 = tempDF.withColumn(\"xsec\", lit(float(xsec))) \\\n",
    "                        .withColumn(\"eff\", lit(float(efficiency))) \\\n",
    "                        .withColumn(\"count\", lit(float(count)))\n",
    "        mcDFList.append([tempDF2, category, subcategory, xsec, efficiency, count])\n",
    "\n",
    "    sys.stdout.write('.')\n",
    "print \"done\"\n",
    "# Monte-Carlo\n",
    "if mcDFList:\n",
    "    mcDF = mcDFList[0][0]\n",
    "    print \"%s(%s) - %s\" % (mcDFList[0][1], mcDFList[0][2], mcDFList[0][0].count())\n",
    "    for x in mcDFList[1:]:\n",
    "        print \"%s(%s) - %s\" % (x[1], x[2], x[0].count())\n",
    "        mcDF = mcDF.union(x[0])\n",
    "    print \"MC Partitions:  %d\" % mcDF.rdd.getNumPartitions()\n",
    "\n",
    "# Data\n",
    "if dataDFList:\n",
    "    dataDF = dataDFList[0][0]\n",
    "    for x in dataDFList[1:]:\n",
    "        dataDF = dataDF.union(x[0])\n",
    "    print \"Data Partitions: %d\" % dataDF.rdd.getNumPartitions()"
   ]
  },
  {
   "cell_type": "code",
   "execution_count": 3,
   "metadata": {},
   "outputs": [],
   "source": [
    "# Add a \"weights\" column\n",
    "processedLumiPB = 35900\n",
    "mcWeight = (mcDF['xsec'] * mcDF['eff'] * processedLumiPB) / mcDF['count']\n",
    "mcDFWeighed = mcDF.withColumn(\"weight\", mcWeight)\n",
    "dataDFWeighed = dataDF.withColumn(\"weight\", lit(1.0))"
   ]
  },
  {
   "cell_type": "code",
   "execution_count": 4,
   "metadata": {},
   "outputs": [],
   "source": [
    "# We want to combine the data/MC into a single Spark dataset to simplify the\n",
    "# later steps. To do this, though, they all need to have the same columns\n",
    "reqCol = ['Muon_pt', 'Muon_eta', 'Muon_phi', 'Muon_energy',\n",
    "          'Muon_charge', 'Muon_loose',\n",
    "          'Jet_pt', 'Jet_eta', 'Jet_phi', 'Jet_energy',\n",
    "          'Met_type1PF_pt','Met_type1PF_px','Met_type1PF_py',\n",
    "          'Met_type1PF_pz','Met_type1PF_phi',\n",
    "          'eff', 'xsec', 'weight',\n",
    "          'Category', 'SubCategory']\n",
    "trimMCDF = mcDFWeighed.select(*reqCol)\n",
    "trimDataDF = dataDFWeighed.select(*reqCol)\n",
    "trimDF = trimMCDF.union(trimDataDF)"
   ]
  },
  {
   "cell_type": "code",
   "execution_count": 5,
   "metadata": {},
   "outputs": [],
   "source": [
    "# Define a custom spark type. This type will be added to a custom\n",
    "# column which is an output from a python function\n",
    "from pyspark.sql.types import *\n",
    "\n",
    "muSchema = StructType([\n",
    "    # Simple flags\n",
    "    StructField(\"pass\", BooleanType(), False),\n",
    "    StructField(\"ss\", BooleanType(), False),\n",
    "    StructField(\"invmass\", FloatType(), False),\n",
    "\n",
    "    # Properties of muons that pass our cuts\n",
    "    StructField(\"pt1\", FloatType(), False),\n",
    "    StructField(\"eta1\", FloatType(), False),\n",
    "    StructField(\"phi1\", FloatType(), False),\n",
    "    StructField(\"energy1\", FloatType(), False),\n",
    "    StructField(\"charge1\", FloatType(), False),\n",
    "    \n",
    "    StructField(\"pt2\", FloatType(), False),\n",
    "    StructField(\"eta2\", FloatType(), False),\n",
    "    StructField(\"phi2\", FloatType(), False),\n",
    "    StructField(\"energy2\", FloatType(), False),\n",
    "    StructField(\"charge2\", FloatType(), False),\n",
    "])"
   ]
  },
  {
   "cell_type": "code",
   "execution_count": 6,
   "metadata": {},
   "outputs": [],
   "source": [
    "# Define a custom python function which will produce some derived values. This\n",
    "# can be absolutely anything, as long as its deterministic and idempotent\n",
    "\n",
    "# ... The will be of the type we defined just before.\n",
    "muonTestFalse = (False, False, 0.0, 0.0, 0.0, 0.0, 0.0, 0.0, 0.0, 0.0, 0.0, 0.0, 0.0)\n",
    "def muonTest(pt,eta,phi,energy,charge,loose):\n",
    "    \"\"\"\n",
    "    Perform muon selection:\n",
    "      pT > 30\n",
    "      abs(eta) < 2.1\n",
    "      80GeV < DiMuonInvMass < 100GeV\n",
    "      N(mu) == 2\n",
    "    \"\"\"\n",
    "    passes = True\n",
    "    if len(pt) < 2:\n",
    "        return muonTestFalse\n",
    "    \n",
    "    leadingIdx = None\n",
    "    trailingIdx = None\n",
    "    for idx in range(len(pt)):\n",
    "        if leadingIdx == None:\n",
    "            if pt[idx] > 30 and abs(eta[idx]) < 2.1 and loose[idx]:\n",
    "                leadingIdx = idx\n",
    "        elif trailingIdx == None:\n",
    "            if pt[idx] > 30 and abs(eta[idx]) < 2.1 and loose[idx]:\n",
    "                trailingIdx = idx\n",
    "        else:\n",
    "            if pt[idx] > 30 and abs(eta[idx]) < 2.1 and loose[idx]:\n",
    "                return muonTestFalse\n",
    "    \n",
    "    if leadingIdx != None and trailingIdx != None:\n",
    "        dimuInvMass = invMass(pt[leadingIdx], pt[trailingIdx],\n",
    "                                eta[leadingIdx], eta[trailingIdx],\n",
    "                                phi[leadingIdx], phi[trailingIdx],\n",
    "                                energy[leadingIdx], energy[trailingIdx])\n",
    "        return (True,\n",
    "                (charge[leadingIdx] * charge[trailingIdx]) > 0,\n",
    "                dimuInvMass,\n",
    "                pt[leadingIdx], pt[trailingIdx],\n",
    "                eta[leadingIdx], eta[trailingIdx],\n",
    "                phi[leadingIdx], phi[trailingIdx],\n",
    "                energy[leadingIdx], energy[trailingIdx],\n",
    "                charge[leadingIdx], charge[trailingIdx])\n",
    "    else:\n",
    "        # if N(mu) != 2\n",
    "        return muonTestFalse\n",
    "\n",
    "import math\n",
    "def invMass(pt0,pt1, eta0, eta1, phi0, phi1, energy0, energy1):\n",
    "    vec1 = (pt0 * math.cos(phi0), pt0 * math.sin(phi0), pt0 * math.sinh(eta0), energy0)\n",
    "    vec2 = (pt1 * math.cos(phi1), pt1 * math.sin(phi1), pt1 * math.sinh(eta1), energy1)\n",
    "\n",
    "    sumvec = (vec1[0] + vec2[0],\n",
    "              vec1[1] + vec2[1],\n",
    "              vec1[2] + vec2[2],\n",
    "              vec1[3] + vec2[3])\n",
    "    magSquared = sumvec[0]*sumvec[0] \\\n",
    "                     + sumvec[1]*sumvec[1] \\\n",
    "                     + sumvec[2]*sumvec[2] \\\n",
    "                     - sumvec[3]*sumvec[3]\n",
    "    if magSquared > 0.0:\n",
    "        return math.sqrt(magSquared)\n",
    "    else:\n",
    "        return math.sqrt(-magSquared)"
   ]
  },
  {
   "cell_type": "code",
   "execution_count": 7,
   "metadata": {},
   "outputs": [],
   "source": [
    "# Convert the python function to a Spark UDF (there's also a\n",
    "# decorator that does this). This tells Spark to run muonTest\n",
    "# and return muSchema\n",
    "from pyspark.sql.functions import udf\n",
    "muonUDF = udf(muonTest, muSchema)\n",
    "\n",
    "# Now tell Spark we want to \n",
    "flatDF = trimDF.withColumn(\"muSel\", muonUDF(\"Muon_pt\", \n",
    "                                           \"Muon_eta\",\n",
    "                                           \"Muon_phi\",\n",
    "                                           \"Muon_energy\",\n",
    "                                           \"Muon_charge\",\n",
    "                                           \"Muon_loose\"))"
   ]
  },
  {
   "cell_type": "code",
   "execution_count": 8,
   "metadata": {},
   "outputs": [],
   "source": [
    "passMuDF = flatDF.where(\"muSel.pass == True\")\n",
    "passMuDF = passMuDF.cache()"
   ]
  },
  {
   "cell_type": "code",
   "execution_count": 9,
   "metadata": {},
   "outputs": [
    {
     "name": "stdout",
     "output_type": "stream",
     "text": [
      "+--------------------------------------------------------------------------------------------------------------------+\n",
      "|muSel                                                                                                               |\n",
      "+--------------------------------------------------------------------------------------------------------------------+\n",
      "|[true,true,42.130745,70.31298,37.222256,0.12262728,-0.6786659,-0.02368905,-0.05557488,70.842384,46.128536,-1.0,-1.0]|\n",
      "|[true,true,83.21503,51.00024,31.819628,0.9399291,1.5536748,-1.5349883,1.9570378,75.237045,78.59909,-1.0,-1.0]       |\n",
      "|[true,true,150.14207,129.67409,33.094105,0.38001454,-0.6884529,-0.6914861,2.489376,139.15054,41.251705,-1.0,-1.0]   |\n",
      "|[true,true,146.35324,102.219955,45.875477,-0.16423549,0.6313914,-0.48854694,2.969861,103.601715,55.327675,1.0,1.0]  |\n",
      "|[true,true,0.9542496,56.914436,31.983658,1.1955177,1.1925913,-0.86010593,-0.88167036,102.66845,57.555393,-1.0,-1.0] |\n",
      "|[true,true,90.15616,62.719593,32.472797,0.9502102,1.1528411,2.2848601,-1.081595,93.23,56.550125,-1.0,-1.0]          |\n",
      "|[true,true,68.01124,50.113293,33.043507,-0.26598132,-1.2180612,2.209356,0.73055315,51.896534,60.741165,-1.0,-1.0]   |\n",
      "|[true,true,74.46316,48.242054,30.557604,-0.26124507,0.66290396,0.36425763,-1.6425613,49.897785,37.521397,-1.0,-1.0] |\n",
      "|[true,true,98.89647,49.821365,47.959824,1.6885593,1.3775464,-0.39879495,2.808227,139.41177,101.13191,1.0,1.0]       |\n",
      "|[true,true,122.8197,68.470535,42.497295,-0.15596907,0.9102048,0.1839533,-2.7029586,69.30512,61.350742,1.0,1.0]      |\n",
      "|[true,true,5.5168486,39.573753,34.123726,-1.4227015,-1.2731037,-0.12597942,-0.116860144,86.852066,65.72038,1.0,1.0] |\n",
      "|[true,true,137.01408,49.978317,34.279503,-1.3952897,0.7846459,-1.0831544,2.093741,107.05123,45.384678,-1.0,-1.0]    |\n",
      "|[true,true,66.53284,51.068207,34.29398,1.8270401,0.5604734,-0.8816228,-0.020329278,162.81444,39.822998,-1.0,-1.0]   |\n",
      "|[true,true,105.90134,67.5152,34.240284,0.57498556,1.468059,0.80796164,-2.3596137,78.9867,78.25921,1.0,1.0]          |\n",
      "|[true,true,79.44105,37.327827,30.531641,-1.8836437,-0.35592577,-2.5776627,-0.6425213,125.59816,32.486237,-1.0,-1.0] |\n",
      "|[true,true,75.932724,39.549862,39.217014,-0.37177008,1.0503515,-0.3252472,-1.5545732,42.31477,62.913406,1.0,1.0]    |\n",
      "|[true,true,98.023026,53.086357,47.24465,0.97942394,1.0693126,2.830496,-0.7350109,80.65017,76.92902,-1.0,-1.0]       |\n",
      "|[true,true,127.23344,40.655586,34.383507,1.3539598,-0.97288495,-3.0961432,-0.85824233,83.97308,51.98035,-1.0,-1.0]  |\n",
      "|[true,true,18.454597,40.033997,39.26958,1.5850439,2.0462117,0.41690633,0.4054543,101.77537,154.48172,1.0,1.0]       |\n",
      "|[true,true,53.99529,45.68514,37.020145,-1.8595343,-0.73310685,-2.3961172,-1.8272241,150.22398,47.42203,-1.0,-1.0]   |\n",
      "+--------------------------------------------------------------------------------------------------------------------+\n",
      "only showing top 20 rows\n",
      "\n"
     ]
    }
   ],
   "source": [
    "passMuDF.where(\"muSel.ss == True\").select('muSel').show(truncate = False)\n"
   ]
  },
  {
   "cell_type": "code",
   "execution_count": 10,
   "metadata": {},
   "outputs": [],
   "source": [
    "# Load libraries, amp up passMuDF with histogrammar\n",
    "%matplotlib inline\n",
    "import matplotlib.pyplot as plt\n",
    "import histogrammar as hg\n",
    "import histogrammar.sparksql\n",
    "hg.sparksql.addMethods(passMuDF)"
   ]
  },
  {
   "cell_type": "code",
   "execution_count": 11,
   "metadata": {},
   "outputs": [],
   "source": [
    "# Monkey-patch histogrammar to fix a bug\n",
    "def x(self, jvm, converter):\n",
    "    return converter.Select(self.quantity.asSparkSQL(), self.cut._sparksql(jvm, converter))\n",
    "hg.Select._sparksql = x"
   ]
  },
  {
   "cell_type": "code",
   "execution_count": 12,
   "metadata": {},
   "outputs": [],
   "source": [
    "plots = hg.UntypedLabel(\n",
    "    # Count events (both raw and weighted)\n",
    "    nRawEvents = hg.Sum(lit(1.0)),\n",
    "    nEvents = hg.Sum(passMuDF['weight']),\n",
    "    # Make some regular \"histograms\" of muon pT\n",
    "    LeadPt = hg.Bin(50, 0, 150, passMuDF['muSel.pt1'], hg.Count(passMuDF['weight'])),\n",
    "    SecondPt = hg.Bin(50, 0, 150, passMuDF['muSel.pt2'], hg.Count(passMuDF['weight'])),\n",
    "    # Let's make an additional cut for only same-sign events\n",
    "    ssCut = hg.Select(\n",
    "        passMuDF['muSel.ss'] == True,\n",
    "        # .. and count them\n",
    "        hg.Sum(passMuDF['weight']),\n",
    "    ),\n",
    ")     "
   ]
  },
  {
   "cell_type": "code",
   "execution_count": 13,
   "metadata": {},
   "outputs": [],
   "source": [
    "# Make a set of histograms per-sample\n",
    "bulkHisto = hg.Categorize(quantity = passMuDF[\"Category\"], value = plots)"
   ]
  },
  {
   "cell_type": "code",
   "execution_count": 14,
   "metadata": {},
   "outputs": [],
   "source": [
    "# Fill from spark -- this is needed if you do a hg.Categorize (static) instead of a passMuDF.Categorize (the class method)\n",
    "bulkHisto.fillsparksql(df=passMuDF)"
   ]
  },
  {
   "cell_type": "code",
   "execution_count": 15,
   "metadata": {},
   "outputs": [
    {
     "name": "stdout",
     "output_type": "stream",
     "text": [
      "Sample  Raw  Weighted\n",
      "    DiBoson     71586.0      22699.2\n",
      "     TTJets     88222.0     261691.0\n",
      "      WJets      3238.0      83691.0\n",
      "     DYJets   3974396.0   15693668.7\n",
      "  SingleTop     28587.0      27169.3\n",
      "====================================\n",
      "    Sum(MC)   4166029.0   16088919.3\n",
      "       Data  18207696.0   18207696.0\n"
     ]
    }
   ],
   "source": [
    "# Output some event counts as a result of cuts\n",
    "# ... something is off with my WJets input files\n",
    "sumEvents = 0.0\n",
    "sumRawEvents = 0.0\n",
    "print \"Sample  Raw  Weighted\"\n",
    "for sample in bulkHisto.bins:\n",
    "    if sample == \"SingleMuon\":\n",
    "        continue\n",
    "    events = bulkHisto(sample)('nEvents').sum\n",
    "    rawEvents = bulkHisto(sample)('nRawEvents').sum\n",
    "    print \"%11s   %9.1f  % 11.1f\" % (sample, rawEvents, events)\n",
    "    sumEvents += float(events)\n",
    "    sumRawEvents += float(rawEvents)\n",
    "\n",
    "print \"=\" * 36\n",
    "print \"    Sum(MC)  % 9.1f  % 11.1f\" % (sumRawEvents, sumEvents)\n",
    "print \"       Data % 9.1f  % 11.1f\" % (bulkHisto('SingleMuon')('nRawEvents').sum, bulkHisto('SingleMuon')('nEvents').sum)"
   ]
  },
  {
   "cell_type": "code",
   "execution_count": 16,
   "metadata": {},
   "outputs": [
    {
     "data": {
      "text/plain": [
       "<matplotlib.axes._subplots.AxesSubplot at 0x52e1e90>"
      ]
     },
     "execution_count": 16,
     "metadata": {},
     "output_type": "execute_result"
    },
    {
     "data": {
      "image/png": "[encoded data removed]",
      "text/plain": [
       "<matplotlib.figure.Figure at 0x52e1d50>"
      ]
     },
     "metadata": {},
     "output_type": "display_data"
    }
   ],
   "source": [
    "bulkHisto('DYJets')('LeadPt').plot.matplotlib()"
   ]
  },
  {
   "cell_type": "code",
   "execution_count": 17,
   "metadata": {},
   "outputs": [
    {
     "data": {
      "text/plain": [
       "<matplotlib.axes._subplots.AxesSubplot at 0x52e1d90>"
      ]
     },
     "execution_count": 17,
     "metadata": {},
     "output_type": "execute_result"
    },
    {
     "data": {
      "image/png": "[encoded data removed]",
      "text/plain": [
       "<matplotlib.figure.Figure at 0x4b90d10>"
      ]
     },
     "metadata": {},
     "output_type": "display_data"
    }
   ],
   "source": [
    "bulkHisto('DYJets')('SecondPt').plot.matplotlib()"
   ]
  },
  {
   "cell_type": "markdown",
   "metadata": {},
   "source": [
    "If you would like access to Vanderbilt's Spark cluster (with access to these datasets), contact Andrew Melo"
   ]
  },
  {
   "cell_type": "code",
   "execution_count": 18,
   "metadata": {},
   "outputs": [],
   "source": [
    "import numpy as np"
   ]
  },
  {
   "cell_type": "code",
   "execution_count": 19,
   "metadata": {},
   "outputs": [
    {
     "data": {
      "image/png": "[encoded data removed]",
      "text/plain": [
       "<matplotlib.figure.Figure at 0x7f74cc1fd850>"
      ]
     },
     "metadata": {},
     "output_type": "display_data"
    }
   ],
   "source": [
    "h1 = passMuDF.Bin(100, 0, 200, passMuDF['muSel.pt1'])\n",
    "ax = h1.plot.matplotlib(name=\"Leading muon pt\")"
   ]
  },
  {
   "cell_type": "code",
   "execution_count": 20,
   "metadata": {},
   "outputs": [
    {
     "name": "stdout",
     "output_type": "stream",
     "text": [
      "{'plot': <histogrammar.util.PlotMethod object at 0x596fed0>, 'nanflow': <Count 0.0>, '_checkedForCrossReferences': False, 'underflow': <Count 0.0>, 'high': 200.0, 'values': [<Count 0.0>, <Count 0.0>, <Count 0.0>, <Count 0.0>, <Count 0.0>, <Count 0.0>, <Count 0.0>, <Count 0.0>, <Count 0.0>, <Count 0.0>, <Count 0.0>, <Count 0.0>, <Count 0.0>, <Count 0.0>, <Count 0.0>, <Count 134293.0>, <Count 404043.0>, <Count 674315.0>, <Count 949888.0>, <Count 1252243.0>, <Count 1613596.0>, <Count 2108791.0>, <Count 2826722.0>, <Count 2866933.0>, <Count 2103426.0>, <Count 1502237.0>, <Count 1101942.0>, <Count 833469.0>, <Count 645576.0>, <Count 510146.0>, <Count 406379.0>, <Count 328717.0>, <Count 266987.0>, <Count 215985.0>, <Count 175730.0>, <Count 144474.0>, <Count 121096.0>, <Count 102361.0>, <Count 89062.0>, <Count 78551.0>, <Count 69318.0>, <Count 61972.0>, <Count 55745.0>, <Count 50076.0>, <Count 45256.0>, <Count 41292.0>, <Count 38015.0>, <Count 34505.0>, <Count 31820.0>, <Count 29450.0>, <Count 27159.0>, <Count 24673.0>, <Count 23343.0>, <Count 21614.0>, <Count 20224.0>, <Count 18589.0>, <Count 17522.0>, <Count 16188.0>, <Count 15104.0>, <Count 14399.0>, <Count 13374.0>, <Count 12265.0>, <Count 11482.0>, <Count 10932.0>, <Count 10402.0>, <Count 9751.0>, <Count 9101.0>, <Count 8658.0>, <Count 8037.0>, <Count 7746.0>, <Count 7170.0>, <Count 6915.0>, <Count 6380.0>, <Count 6059.0>, <Count 5718.0>, <Count 5504.0>, <Count 5200.0>, <Count 5054.0>, <Count 4680.0>, <Count 4428.0>, <Count 4175.0>, <Count 4029.0>, <Count 3820.0>, <Count 3630.0>, <Count 3443.0>, <Count 3377.0>, <Count 3213.0>, <Count 2988.0>, <Count 2823.0>, <Count 2684.0>, <Count 2668.0>, <Count 2423.0>, <Count 2320.0>, <Count 2256.0>, <Count 2164.0>, <Count 2105.0>, <Count 1968.0>, <Count 1863.0>, <Count 1836.0>, <Count 1694.0>], 'low': 0.0, 'entries': 22373725.0, 'overflow': <Count 46164.0>, 'fill': <histogrammar.util.FillMethod object at 0x596fe90>, 'quantity': UserFcn(None, muSel.pt1 AS `pt1`)}\n",
      "{'plot': <histogrammar.util.PlotMethod object at 0x504efd0>, 'nanflow': <Count 0.0>, '_checkedForCrossReferences': False, 'underflow': <Count 0.0>, 'high': 150.0, 'values': [<Count 0.0>, <Count 0.0>, <Count 0.0>, <Count 0.0>, <Count 0.0>, <Count 0.0>, <Count 0.0>, <Count 0.0>, <Count 0.0>, <Count 0.0>, <Count 53441.0>, <Count 162822.0>, <Count 277685.0>, <Count 415750.0>, <Count 628894.0>, <Count 815244.0>, <Count 544265.0>, <Count 327052.0>, <Count 208340.0>, <Count 138632.0>, <Count 96220.0>, <Count 67919.0>, <Count 47511.0>, <Count 33208.0>, <Count 24277.0>, <Count 18415.0>, <Count 14626.0>, <Count 11951.0>, <Count 9876.0>, <Count 8314.0>, <Count 7150.0>, <Count 6019.0>, <Count 5199.0>, <Count 4839.0>, <Count 4108.0>, <Count 3640.0>, <Count 3267.0>, <Count 2927.0>, <Count 2558.0>, <Count 2333.0>, <Count 2039.0>, <Count 1852.0>, <Count 1704.0>, <Count 1576.0>, <Count 1476.0>, <Count 1292.0>, <Count 1172.0>, <Count 1114.0>, <Count 992.0>, <Count 895.0>], 'low': 0.0, 'entries': 3974396.0, 'overflow': <Count 13802.0>, 'fill': <histogrammar.util.FillMethod object at 0x5109290>, 'quantity': UserFcn(None, muSel.pt1 AS `pt1`)}\n"
     ]
    }
   ],
   "source": [
    "print h1.__dict__\n",
    "print bulkHisto('DYJets')('LeadPt').__dict__"
   ]
  },
  {
   "cell_type": "code",
   "execution_count": null,
   "metadata": {},
   "outputs": [],
   "source": []
  }
 ],
 "metadata": {
  "celltoolbar": "Slideshow",
  "kernelspec": {
   "display_name": "Python 2",
   "language": "python",
   "name": "python2"
  },
  "language_info": {
   "codemirror_mode": {
    "name": "ipython",
    "version": 2
   },
   "file_extension": ".py",
   "mimetype": "text/x-python",
   "name": "python",
   "nbconvert_exporter": "python",
   "pygments_lexer": "ipython2",
   "version": "2.7.5"
  }
 },
 "nbformat": 4,
 "nbformat_minor": 2
}
