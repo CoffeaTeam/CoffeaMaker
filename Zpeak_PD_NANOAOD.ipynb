{
 "cells": [
  {
   "cell_type": "code",
   "execution_count": 1,
   "metadata": {},
   "outputs": [
    {
     "name": "stdout",
     "output_type": "stream",
     "text": [
      "Once deleted, variables cannot be recovered. Proceed (y/[n])? y\n"
     ]
    }
   ],
   "source": [
    "#Start up Spark (only needs to be done once)\n",
    "%reset\n",
    "import os\n",
    "import pyspark.sql\n",
    "import sys\n",
    "#from pyspark.sql.functions import abs\n",
    "#from pyspark.sql.functions import cosh\n",
    "#from pyspark.sql.functions import cos\n",
    "#from pyspark.sql.functions import sqrt\n",
    "\n",
    "#!export KRB5CCNAME=FILE:/tmp/${USER}_krb\n",
    "#!kinit -c /tmp/${USER}_krb\n",
    "\n",
    "session = pyspark.sql.SparkSession.builder \\\n",
    "    .master(\n",
    "        #\"spark://10.64.22.66:7077\"\n",
    "        \"local\"\n",
    "    ) \\\n",
    "    .appName(# Name of your application in the dashboard/UI\n",
    "             \"Zpeak\"\n",
    "            ) \\\n",
    "    .config(# Tell Spark to load some extra libraries from Maven (the Java repository)\n",
    "            'spark.jars.packages',\n",
    "            'org.diana-hep:spark-root_2.11:0.1.16,org.diana-hep:histogrammar-sparksql_2.11:1.0.4'\n",
    "            )\\\n",
    "    .config('spark.cores.max,3'\n",
    "            ) \\\n",
    "    .getOrCreate()\n",
    "    \n",
    "sc = session.sparkContext\n",
    "sqlContext = session\n",
    "#!hdfs dfs -ls hdfs://10.64.22.72:9000/NANO_Prod"
   ]
  },
  {
   "cell_type": "markdown",
   "metadata": {},
   "source": [
    "# Loading NanoAod root files using spark-root package\n",
    "Loading the nanoaod root file serving from hadoop cluster, and load the tree in dedicated TDirectory in the root file."
   ]
  },
  {
   "cell_type": "code",
   "execution_count": 8,
   "metadata": {},
   "outputs": [],
   "source": [
    "filename=\"hdfs://10.64.22.72:9000/NANO_Prod/DYJetsToLL_M-50_TuneCUETP8M1_13TeV-madgraphMLM-pythia8_ext1-v2.root\"\n",
    "df = sqlContext.read.format(\"org.dianahep.sparkroot\") \\\n",
    "    .option(\"tree\",\"Events\") \\\n",
    "    .load(filename)\n",
    "#df = df.cache()\n",
    "#df.printSchema() "
   ]
  },
  {
   "cell_type": "markdown",
   "metadata": {},
   "source": [
    "# User Defined Function Definition and helper function\n",
    "\n",
    "User Defined Function (UDF) is a function passes row by row to compute derived quantity such as invaraint mass of two physics objects involving multiple column. Helper function defined to facilitate event selection (using spark feature such as filter instead of python defined function (thanks to NANOAOD structure!))"
   ]
  },
  {
   "cell_type": "code",
   "execution_count": 3,
   "metadata": {},
   "outputs": [
    {
     "data": {
      "application/javascript": [
       "\n",
       "require(['notebook'],\n",
       "  function() {\n",
       "    IPython.CodeCell.config_defaults.highlight_modes['magic_text/x-c++src'] = {'reg':[/^%%cpp/]};\n",
       "    console.log(\"JupyROOT - %%cpp magic configured\");\n",
       "  }\n",
       ");\n"
      ]
     },
     "metadata": {},
     "output_type": "display_data"
    },
    {
     "name": "stdout",
     "output_type": "stream",
     "text": [
      "Welcome to JupyROOT 6.08/00\n"
     ]
    }
   ],
   "source": [
    "#Define function\n",
    "#MuonEta = df.withColumn('Muon_eta[0]',abs(df.Value))\n",
    "from ROOT import TLorentzVector, gROOT\n",
    "lepton1 = TLorentzVector(); lepton1.SetPtEtaPhiM(0.,0.,0.,0.)\n",
    "lepton2 = TLorentzVector(); lepton2.SetPtEtaPhiM(0.,0.,0.,0.)\n",
    "Zsystem = TLorentzVector(); Zsystem.SetPtEtaPhiM(0.,0.,0.,0.)\n",
    "\n",
    "def invariantMass(arr):\n",
    "    lepton1.SetPtEtaPhiM(arr[0][0],arr[1][0],arr[2][0],arr[3][0])\n",
    "    lepton2.SetPtEtaPhiM(arr[0][1],arr[1][1],arr[2][1],arr[3][1])\n",
    "    Zsystem =lepton1+lepton2\n",
    "    return float(Zsystem.M())\n",
    "\n",
    "def passMuonSel(dataframe):\n",
    "    return (dataframe.filter(\"Muon_pt[0]>10.0\").filter(\"Muon_pfRelIso04_all[0]<0.12\"))\n",
    "\n",
    "def passEventSel(dataframe):\n",
    "    return (dataframe.filter(\"nMuon>1\").filter(\"Muon_pt[0]>25.0\").filter(\"Muon_pfRelIso04_all[0]<0.5\"))"
   ]
  },
  {
   "cell_type": "markdown",
   "metadata": {},
   "source": [
    "# Event Selection\n",
    "\n",
    "Physics object-oriented selection and general event selection. Note: eta selection is ommitted, the abs() feature is not permitted in spark filter. "
   ]
  },
  {
   "cell_type": "code",
   "execution_count": 5,
   "metadata": {},
   "outputs": [
    {
     "name": "stdout",
     "output_type": "stream",
     "text": [
      "Muon Selection, number of event =  151814\n",
      "General Event Selection, number of event =  79794\n"
     ]
    }
   ],
   "source": [
    "#muon selection\n",
    "dfMuon = passMuonSel(df)\n",
    "print \"Muon Selection, number of event = \", dfMuon.count()\n",
    "dfMuon = passEventSel(dfMuon)\n",
    "print \"General Event Selection, number of event = \", dfMuon.count()"
   ]
  },
  {
   "cell_type": "markdown",
   "metadata": {},
   "source": [
    "# Computing the invaraince mass of two lepton \n",
    "\n",
    "Deploying the UDF to take kinemtaics variables of muons, constructing TLorenztVecotr on the fly and append a new column to reduced table (Muon object selection)"
   ]
  },
  {
   "cell_type": "code",
   "execution_count": 7,
   "metadata": {
    "scrolled": false
   },
   "outputs": [
    {
     "name": "stdout",
     "output_type": "stream",
     "text": [
      "+----------+\n",
      "|       mll|\n",
      "+----------+\n",
      "|  92.16055|\n",
      "|  78.37113|\n",
      "|  65.17627|\n",
      "|104.037766|\n",
      "| 90.211586|\n",
      "|  88.75579|\n",
      "|  98.58132|\n",
      "|  92.51027|\n",
      "| 93.180214|\n",
      "|  84.76843|\n",
      "+----------+\n",
      "only showing top 10 rows\n",
      "\n"
     ]
    }
   ],
   "source": [
    "#header = list(df.columns)\n",
    "#muonAttr = [muon for muon in header if 'Muon' in muon]\n",
    "#dsMuons = df.select(muonAttr)\n",
    "\n",
    "from pyspark.sql.functions import udf, array\n",
    "from pyspark.sql.types import FloatType\n",
    "MllUDF = udf(lambda z: invariantMass(z), FloatType())\n",
    "\n",
    "dfMuon = dfMuon.withColumn('mll',MllUDF(array('Muon_pt','Muon_eta','Muon_phi','Muon_mass')))\n",
    "#MLL = dfMuon.select(MllUDF(array('Muon_pt','Muon_eta','Muon_phi','Muon_mass')).alias('mll'))\n",
    "#MLL.show(10)\n",
    "\n",
    "dfMuon.select('mll').show(10)"
   ]
  },
  {
   "cell_type": "markdown",
   "metadata": {},
   "source": [
    "# Plotting the invariance mass of Z boson (matplotlib)\n",
    "\n",
    "Via Histogrammer, the computed quantity which appended to the big table is plotted using external package such as matplotlib"
   ]
  },
  {
   "cell_type": "code",
   "execution_count": 7,
   "metadata": {
    "scrolled": true
   },
   "outputs": [
    {
     "data": {
      "image/png": "[encoded data removed]",
      "text/plain": [
       "<matplotlib.figure.Figure at 0x88a1710>"
      ]
     },
     "metadata": {},
     "output_type": "display_data"
    }
   ],
   "source": [
    "#make histogram using matplotlib\n",
    "from histogrammar import *\n",
    "import histogrammar.sparksql\n",
    "import numpy as np\n",
    "import matplotlib.pyplot as plt\n",
    "\n",
    "#declaration of histogram\n",
    "histogrammar.sparksql.addMethods(dfMuon)\n",
    "hist = dfMuon.Bin(40, 0, 200, dfMuon['mll'])\n",
    "plt.xlabel('$M_{\\mu\\mu}$ [GeV]')\n",
    "plt.ylabel('Events')\n",
    "hist.plot.matplotlib(name=\"Invariant mass of Z boson\")\n",
    "\n",
    "plt.show()"
   ]
  },
  {
   "cell_type": "markdown",
   "metadata": {},
   "source": [
    "# Plotting the invariance mass of Z boson (root)\n",
    "\n",
    "Via histogrammer, the computed quantity which appended to the big table is plotted using numpy + root packages"
   ]
  },
  {
   "cell_type": "code",
   "execution_count": 43,
   "metadata": {},
   "outputs": [
    {
     "data": {
      "image/png": "[encoded data removed]",
      "text/plain": [
       "<IPython.core.display.Image object>"
      ]
     },
     "metadata": {},
     "output_type": "display_data"
    }
   ],
   "source": [
    "#Using numpy + pyroot \n",
    "from histogrammar import *\n",
    "import ROOT\n",
    "import numpy as np\n",
    "\n",
    "mllp = np.array(dfMuon.select('mll').collect()).flatten()\n",
    "histogram = Bin(40, 0, 200, lambda x : x )\n",
    "\n",
    "histogram.fill.numpy(mllp)\n",
    "\n",
    "c = ROOT.TCanvas(\"c1\",\"The Canvas Title\",800,600)\n",
    "roothist = histogram.plot.root(\"name\", \"Invaraince mass of dilepton\")\n",
    "roothist.GetYaxis().SetTitle(\"Events\")\n",
    "roothist.GetXaxis().SetTitle(\"M_{#mu#mu} [GeV]\")\n",
    "roothist.Draw()\n",
    "c.Draw()\n",
    "#c.SaveAs(\"test.png\")\n"
   ]
  }
 ],
 "metadata": {
  "kernelspec": {
   "display_name": "Python 2",
   "language": "python",
   "name": "python2"
  },
  "language_info": {
   "codemirror_mode": {
    "name": "ipython",
    "version": 2
   },
   "file_extension": ".py",
   "mimetype": "text/x-python",
   "name": "python",
   "nbconvert_exporter": "python",
   "pygments_lexer": "ipython2",
   "version": "2.7.5"
  }
 },
 "nbformat": 4,
 "nbformat_minor": 2
}
